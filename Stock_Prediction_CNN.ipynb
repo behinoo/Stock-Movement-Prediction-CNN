{
  "nbformat": 4,
  "nbformat_minor": 0,
  "metadata": {
    "colab": {
      "name": "Stock_Prediction_CNN.ipynb",
      "provenance": []
    },
    "kernelspec": {
      "name": "python3",
      "display_name": "Python 3"
    },
    "accelerator": "GPU"
  },
  "cells": [
    {
      "cell_type": "code",
      "metadata": {
        "id": "k8bQtOidMp5Z",
        "colab_type": "code",
        "colab": {
          "base_uri": "https://localhost:8080/",
          "height": 1000
        },
        "outputId": "d73d2ea3-99be-4193-f023-be0a73fc103c"
      },
      "source": [
        "! pip install quandl \n",
        "!pip install yfinance"
      ],
      "execution_count": 1,
      "outputs": [
        {
          "output_type": "stream",
          "text": [
            "Collecting quandl\n",
            "  Downloading https://files.pythonhosted.org/packages/12/64/6314547cb01fa75697ddba6d6d43a9f1d023c1730ffc6abf3db7a0c89222/Quandl-3.4.8-py2.py3-none-any.whl\n",
            "Collecting ndg-httpsclient\n",
            "  Downloading https://files.pythonhosted.org/packages/fb/67/c2f508c00ed2a6911541494504b7cac16fe0b0473912568df65fd1801132/ndg_httpsclient-0.5.1-py3-none-any.whl\n",
            "Requirement already satisfied: numpy>=1.8 in /usr/local/lib/python3.6/dist-packages (from quandl) (1.17.4)\n",
            "Requirement already satisfied: requests>=2.7.0 in /usr/local/lib/python3.6/dist-packages (from quandl) (2.21.0)\n",
            "Requirement already satisfied: pyasn1 in /usr/local/lib/python3.6/dist-packages (from quandl) (0.4.7)\n",
            "Collecting pyOpenSSL\n",
            "\u001b[?25l  Downloading https://files.pythonhosted.org/packages/9e/de/f8342b68fa9e981d348039954657bdf681b2ab93de27443be51865ffa310/pyOpenSSL-19.1.0-py2.py3-none-any.whl (53kB)\n",
            "\u001b[K     |████████████████████████████████| 61kB 9.8MB/s \n",
            "\u001b[?25hRequirement already satisfied: pandas>=0.14 in /usr/local/lib/python3.6/dist-packages (from quandl) (0.25.3)\n",
            "Requirement already satisfied: six in /usr/local/lib/python3.6/dist-packages (from quandl) (1.12.0)\n",
            "Collecting inflection>=0.3.1\n",
            "  Downloading https://files.pythonhosted.org/packages/d5/35/a6eb45b4e2356fe688b21570864d4aa0d0a880ce387defe9c589112077f8/inflection-0.3.1.tar.gz\n",
            "Collecting more-itertools<=5.0.0\n",
            "\u001b[?25l  Downloading https://files.pythonhosted.org/packages/a4/a6/42f17d065bda1fac255db13afc94c93dbfb64393eae37c749b4cb0752fc7/more_itertools-5.0.0-py3-none-any.whl (52kB)\n",
            "\u001b[K     |████████████████████████████████| 61kB 9.9MB/s \n",
            "\u001b[?25hRequirement already satisfied: python-dateutil in /usr/local/lib/python3.6/dist-packages (from quandl) (2.6.1)\n",
            "Requirement already satisfied: idna<2.9,>=2.5 in /usr/local/lib/python3.6/dist-packages (from requests>=2.7.0->quandl) (2.8)\n",
            "Requirement already satisfied: chardet<3.1.0,>=3.0.2 in /usr/local/lib/python3.6/dist-packages (from requests>=2.7.0->quandl) (3.0.4)\n",
            "Requirement already satisfied: urllib3<1.25,>=1.21.1 in /usr/local/lib/python3.6/dist-packages (from requests>=2.7.0->quandl) (1.24.3)\n",
            "Requirement already satisfied: certifi>=2017.4.17 in /usr/local/lib/python3.6/dist-packages (from requests>=2.7.0->quandl) (2019.9.11)\n",
            "Collecting cryptography>=2.8\n",
            "\u001b[?25l  Downloading https://files.pythonhosted.org/packages/ca/9a/7cece52c46546e214e10811b36b2da52ce1ea7fa203203a629b8dfadad53/cryptography-2.8-cp34-abi3-manylinux2010_x86_64.whl (2.3MB)\n",
            "\u001b[K     |████████████████████████████████| 2.3MB 14.2MB/s \n",
            "\u001b[?25hRequirement already satisfied: pytz>=2017.2 in /usr/local/lib/python3.6/dist-packages (from pandas>=0.14->quandl) (2018.9)\n",
            "Requirement already satisfied: cffi!=1.11.3,>=1.8 in /usr/local/lib/python3.6/dist-packages (from cryptography>=2.8->pyOpenSSL->quandl) (1.13.2)\n",
            "Requirement already satisfied: pycparser in /usr/local/lib/python3.6/dist-packages (from cffi!=1.11.3,>=1.8->cryptography>=2.8->pyOpenSSL->quandl) (2.19)\n",
            "Building wheels for collected packages: inflection\n",
            "  Building wheel for inflection (setup.py) ... \u001b[?25l\u001b[?25hdone\n",
            "  Created wheel for inflection: filename=inflection-0.3.1-cp36-none-any.whl size=6076 sha256=06b945bde63b629318d0ab17087b9d0d83406d3aada337e487d0fdbbc8fdbed8\n",
            "  Stored in directory: /root/.cache/pip/wheels/9f/5a/d3/6fc3bf6516d2a3eb7e18f9f28b472110b59325f3f258fe9211\n",
            "Successfully built inflection\n",
            "\u001b[31mERROR: datascience 0.10.6 has requirement folium==0.2.1, but you'll have folium 0.8.3 which is incompatible.\u001b[0m\n",
            "Installing collected packages: cryptography, pyOpenSSL, ndg-httpsclient, inflection, more-itertools, quandl\n",
            "  Found existing installation: more-itertools 7.2.0\n",
            "    Uninstalling more-itertools-7.2.0:\n",
            "      Successfully uninstalled more-itertools-7.2.0\n",
            "Successfully installed cryptography-2.8 inflection-0.3.1 more-itertools-5.0.0 ndg-httpsclient-0.5.1 pyOpenSSL-19.1.0 quandl-3.4.8\n",
            "Collecting yfinance\n",
            "  Downloading https://files.pythonhosted.org/packages/85/56/5e26c150517acbdce8e31d3e6169530e102a0575f5eb1a4310753e53a424/yfinance-0.1.50.tar.gz\n",
            "Requirement already satisfied: pandas>=0.24 in /usr/local/lib/python3.6/dist-packages (from yfinance) (0.25.3)\n",
            "Requirement already satisfied: numpy>=1.15 in /usr/local/lib/python3.6/dist-packages (from yfinance) (1.17.4)\n",
            "Requirement already satisfied: requests>=2.20 in /usr/local/lib/python3.6/dist-packages (from yfinance) (2.21.0)\n",
            "Requirement already satisfied: multitasking>=0.0.7 in /usr/local/lib/python3.6/dist-packages (from yfinance) (0.0.9)\n",
            "Requirement already satisfied: python-dateutil>=2.6.1 in /usr/local/lib/python3.6/dist-packages (from pandas>=0.24->yfinance) (2.6.1)\n",
            "Requirement already satisfied: pytz>=2017.2 in /usr/local/lib/python3.6/dist-packages (from pandas>=0.24->yfinance) (2018.9)\n",
            "Requirement already satisfied: chardet<3.1.0,>=3.0.2 in /usr/local/lib/python3.6/dist-packages (from requests>=2.20->yfinance) (3.0.4)\n",
            "Requirement already satisfied: idna<2.9,>=2.5 in /usr/local/lib/python3.6/dist-packages (from requests>=2.20->yfinance) (2.8)\n",
            "Requirement already satisfied: certifi>=2017.4.17 in /usr/local/lib/python3.6/dist-packages (from requests>=2.20->yfinance) (2019.9.11)\n",
            "Requirement already satisfied: urllib3<1.25,>=1.21.1 in /usr/local/lib/python3.6/dist-packages (from requests>=2.20->yfinance) (1.24.3)\n",
            "Requirement already satisfied: six>=1.5 in /usr/local/lib/python3.6/dist-packages (from python-dateutil>=2.6.1->pandas>=0.24->yfinance) (1.12.0)\n",
            "Building wheels for collected packages: yfinance\n",
            "  Building wheel for yfinance (setup.py) ... \u001b[?25l\u001b[?25hdone\n",
            "  Created wheel for yfinance: filename=yfinance-0.1.50-py2.py3-none-any.whl size=21556 sha256=d87d7215d2e9eede8bedd690462302a7a5ab0467f123fee30feaaf754fb57ec8\n",
            "  Stored in directory: /root/.cache/pip/wheels/19/2a/e6/b4d4cc977576e18220a36866acf2f2cf7241f16af5f8795b17\n",
            "Successfully built yfinance\n",
            "Installing collected packages: yfinance\n",
            "Successfully installed yfinance-0.1.50\n"
          ],
          "name": "stdout"
        }
      ]
    },
    {
      "cell_type": "code",
      "metadata": {
        "id": "81GuSj_gM223",
        "colab_type": "code",
        "colab": {
          "base_uri": "https://localhost:8080/",
          "height": 35
        },
        "outputId": "e6fb350e-4b65-4084-8c22-108cf5959779"
      },
      "source": [
        "import yfinance as yf  \n",
        "import time\n",
        "import quandl \n",
        "import datetime as dt\n",
        "import pandas as pd\n",
        "import numpy as np\n",
        "from tqdm import tqdm\n",
        "import matplotlib.pylab as plt\n",
        "import glob, os\n",
        "from fastai.vision import *\n",
        "from fastai.metrics import accuracy\n",
        "import datetime\n",
        "%matplotlib inline\n",
        "from matplotlib.pylab import rcParams\n",
        "rcParams['figure.figsize'] = 15, 6\n",
        "from sklearn.metrics import roc_curve, auc\n",
        "import torch\n",
        "torch.cuda.get_device_name(0)"
      ],
      "execution_count": 13,
      "outputs": [
        {
          "output_type": "execute_result",
          "data": {
            "text/plain": [
              "'Tesla P100-PCIE-16GB'"
            ]
          },
          "metadata": {
            "tags": []
          },
          "execution_count": 13
        }
      ]
    },
    {
      "cell_type": "code",
      "metadata": {
        "id": "Gru6JrWMM813",
        "colab_type": "code",
        "colab": {}
      },
      "source": [
        "def plot_candles(pricing = None, title=None,\n",
        "                 volume_bars=False,\n",
        "                 color_function=None,\n",
        "                 overlays=None,\n",
        "                 technicals=None,\n",
        "                 technicals_titles=None,\n",
        "                 save =False,\n",
        "                 name = None,\n",
        "                 multi_stocks = None,\n",
        "                 Bollinger_Band = None,\n",
        "                 start=\"2016-01-01\",\n",
        "                 end=dt.datetime.now()):\n",
        "    \"\"\" \n",
        "    The orginal code for this code was obtained\n",
        "    from https://www.quantopian.com/posts/plot-candlestick-charts-in-research \n",
        "    and was modified. \n",
        "    \n",
        "    \n",
        "    Plots a candlestick chart using quantopian pricing data.\n",
        "    \n",
        "    \n",
        "    \n",
        "    Args:\n",
        "      pricing: A pandas dataframe with columns ['open_price', 'close_price', 'high', 'low', 'volume']\n",
        "      title: An optional title for the chart\n",
        "      volume_bars: If True, plots volume bars\n",
        "      color_function: A function which, given a row index and price series, returns a candle color.\n",
        "      overlays: A list of additional data series to overlay on top of pricing.  Must be the same length as pricing.\n",
        "      technicals: A list of additional data series to display as subplots.\n",
        "      technicals_titles: A list of titles to display for each technical indicator.\n",
        "    \"\"\"\n",
        "    def default_color(index, open_price, close_price, low, high):\n",
        "        return 'r' if open_price[index] > close_price[index] else 'g'\n",
        "    color_function = color_function or default_color\n",
        "    overlays = overlays or []\n",
        "    technicals = technicals or []\n",
        "    technicals_titles = technicals_titles or []\n",
        "\n",
        "    \n",
        "    subplot_count = 1\n",
        "    if volume_bars:\n",
        "        subplot_count = 2\n",
        "    if technicals:\n",
        "        subplot_count += len(technicals)\n",
        "    \n",
        "    if multi_stocks: \n",
        "        subplot_count = len(multi_stocks)*2\n",
        "        \n",
        "    if subplot_count == 1:\n",
        "        fig, ax1 = plt.subplots(1, 1)\n",
        "    \n",
        "\n",
        "    else:\n",
        "        ratios = np.insert(np.full(subplot_count - 1, 1), 0, 3)\n",
        "        fig, subplots = plt.subplots(subplot_count, 1, sharex=True, gridspec_kw={'height_ratios': ratios})\n",
        "        \n",
        "        \n",
        "    \n",
        "    \n",
        "    for i, ticker in enumerate(multi_stocks):\n",
        "      # get the data 20 day before start to calculate rolling mean and std and then clip it \n",
        "        \n",
        "        pricing = yf.download(ticker,start- datetime.timedelta(days=40),end)\n",
        "        ax1 = subplots[i*2]\n",
        "   \n",
        "        pricing['30 Day MA'] = pricing['Adj Close'].rolling(window=20).mean()\n",
        "        pricing['30 Day STD'] = pricing['Adj Close'].rolling(window=20).std()\n",
        "        pricing['Upper Band'] = pricing['30 Day MA'] + (pricing['30 Day STD'] * 2)\n",
        "        pricing['Lower Band'] = pricing['30 Day MA'] - (pricing['30 Day STD'] * 2)\n",
        "         # clip the start -20 to start\n",
        "        pricing.reset_index(inplace =True)\n",
        "        pricing = pricing[pricing['Date']>=start_date]\n",
        "        pricing.set_index('Date',inplace = True)      \n",
        "        open_price = pricing['Open']\n",
        "        close_price = pricing['Close']\n",
        "        low = pricing['Low']\n",
        "        high = pricing['High']\n",
        "        \n",
        "        oc_min = pd.concat([open_price, close_price], axis=1).min(axis=1)\n",
        "        oc_max = pd.concat([open_price, close_price], axis=1).max(axis=1)\n",
        "        x = np.arange(len(pricing))\n",
        "        candle_colors = [color_function(i, open_price, close_price, low, high) for i in x]\n",
        "        candles = ax1.bar(x, oc_max-oc_min, bottom=oc_min, color=candle_colors, linewidth=0)\n",
        "        lines = ax1.vlines(x + 0.4, low, high, color=candle_colors, linewidth=1)\n",
        "        ax1.xaxis.grid(False)\n",
        "        ax1.xaxis.set_tick_params(which='major', length=3.0, direction='in', top='off')\n",
        "        ax1.plot(pricing['Close'].values,color = 'b')\n",
        "        # Assume minute frequency if first two bars are in the same day.\n",
        "        frequency = 'minute' if (pricing.index[1] - pricing.index[0]).days == 0 else 'day'\n",
        "        time_format = '%d-%m-%Y'\n",
        "        if frequency == 'minute':\n",
        "            time_format = '%H:%M'\n",
        "\n",
        "        for overlay in overlays:\n",
        "            ax1.plot(x, overlay)\n",
        "        # Plot volume bars if needed\n",
        "        if volume_bars:\n",
        "            ax2 = subplots[i*2+1]\n",
        "            volume = pricing['Volume']\n",
        "            volume_scale = None\n",
        "            scaled_volume = volume\n",
        "            if volume.max() > 1000000:\n",
        "                volume_scale = 'M'\n",
        "                scaled_volume = volume / 1000000\n",
        "            elif volume.max() > 1000:\n",
        "                volume_scale = 'K'\n",
        "                scaled_volume = volume / 1000\n",
        "            ax2.bar(x, scaled_volume, color=candle_colors)\n",
        "            ax2.xaxis.grid(False)\n",
        "        \n",
        "        x_axis = pricing.reset_index().reset_index()['index'] \n",
        "\n",
        "        ax1.fill_between(x_axis, pricing['Upper Band'], pricing['Lower Band'], color='grey')\n",
        "\n",
        "        # Plot additional technical indicators\n",
        "        for (i, technical) in enumerate(technicals):\n",
        "            ax = subplots[i - len(technicals)] # Technical indicator plots are shown last\n",
        "            ax.plot(x, technical)\n",
        "            if i < len(technicals_titles):\n",
        "                ax.set_title(technicals_titles[i])\n",
        "                \n",
        "                \n",
        "    if save: plt.savefig('/content/drive/My Drive/Stocks/'+name) "
      ],
      "execution_count": 0,
      "outputs": []
    },
    {
      "cell_type": "markdown",
      "metadata": {
        "id": "LOgM08HuN_EN",
        "colab_type": "text"
      },
      "source": [
        "Load Google Drive"
      ]
    },
    {
      "cell_type": "code",
      "metadata": {
        "id": "-A4S95NwNp9F",
        "colab_type": "code",
        "colab": {
          "base_uri": "https://localhost:8080/",
          "height": 129
        },
        "outputId": "6213df53-5cbf-4880-e7a5-b3d4d904850c"
      },
      "source": [
        "# Load the Drive helper and mount\n",
        "from google.colab import drive\n",
        "# This will prompt for authorization.\n",
        "drive.mount('/content/drive')"
      ],
      "execution_count": 5,
      "outputs": [
        {
          "output_type": "stream",
          "text": [
            "Go to this URL in a browser: https://accounts.google.com/o/oauth2/auth?client_id=947318989803-6bn6qk8qdgf4n4g3pfee6491hc0brc4i.apps.googleusercontent.com&redirect_uri=urn%3aietf%3awg%3aoauth%3a2.0%3aoob&response_type=code&scope=email%20https%3a%2f%2fwww.googleapis.com%2fauth%2fdocs.test%20https%3a%2f%2fwww.googleapis.com%2fauth%2fdrive%20https%3a%2f%2fwww.googleapis.com%2fauth%2fdrive.photos.readonly%20https%3a%2f%2fwww.googleapis.com%2fauth%2fpeopleapi.readonly\n",
            "\n",
            "Enter your authorization code:\n",
            "··········\n",
            "Mounted at /content/drive\n"
          ],
          "name": "stdout"
        }
      ]
    },
    {
      "cell_type": "markdown",
      "metadata": {
        "id": "Z49CAdjdOdsF",
        "colab_type": "text"
      },
      "source": [
        "Plot AMZN and MSFT"
      ]
    },
    {
      "cell_type": "code",
      "metadata": {
        "id": "rAglpH9DNyzl",
        "colab_type": "code",
        "colab": {
          "base_uri": "https://localhost:8080/",
          "height": 411
        },
        "outputId": "773aedc1-c60c-4446-9848-4e729836b90a"
      },
      "source": [
        "windows = 30 \n",
        "start_date = \"2016-01-01\"\n",
        "start_date = pd.to_datetime(start_date)\n",
        "end_date = dt.datetime.now()\n",
        "plot_candles(  volume_bars=True, save = True,name = 'amazon.png', multi_stocks=['AMZN','MSFT'],Bollinger_Band = True, start = start_date, end = end_date )\n"
      ],
      "execution_count": 6,
      "outputs": [
        {
          "output_type": "stream",
          "text": [
            "[*********************100%***********************]  1 of 1 completed\n",
            "[*********************100%***********************]  1 of 1 completed\n"
          ],
          "name": "stdout"
        },
        {
          "output_type": "display_data",
          "data": {
            "image/png": "[encoded data removed]",
            "text/plain": [
              "<Figure size 1080x432 with 4 Axes>"
            ]
          },
          "metadata": {
            "tags": []
          }
        }
      ]
    },
    {
      "cell_type": "code",
      "metadata": {
        "id": "jIwNHJ5EOO0L",
        "colab_type": "code",
        "colab": {}
      },
      "source": [
        "# Uncomment this block if you want to delete and create a new folder\n",
        "# ! rm -r \"/content/drive/My Drive/Stocks/\"\n",
        "# ! /bin/mkdir -p \"/content/drive/My Drive/Stocks\""
      ],
      "execution_count": 0,
      "outputs": []
    },
    {
      "cell_type": "markdown",
      "metadata": {
        "id": "m44QvCvxO26j",
        "colab_type": "text"
      },
      "source": [
        "# Training the model"
      ]
    },
    {
      "cell_type": "markdown",
      "metadata": {
        "id": "cc97afrjRfjB",
        "colab_type": "text"
      },
      "source": [
        "Parameters"
      ]
    },
    {
      "cell_type": "code",
      "metadata": {
        "id": "OBry1wn1RcIX",
        "colab_type": "code",
        "colab": {}
      },
      "source": [
        "\n",
        "# stickers = ['AMZN','MSFT','WMT','NFLX']\n",
        "stickers = ['AMZN']\n",
        "windows = 30 \n",
        "start_date = \"2012-01-01\""
      ],
      "execution_count": 0,
      "outputs": []
    },
    {
      "cell_type": "code",
      "metadata": {
        "id": "P4ySkudgO4-i",
        "colab_type": "code",
        "colab": {
          "base_uri": "https://localhost:8080/",
          "height": 35
        },
        "outputId": "b9cadfbb-873c-4f99-e8a1-227e30a8764a"
      },
      "source": [
        "start_date = pd.to_datetime(start_date)\n",
        "Final_date = dt.datetime.now() \n",
        "#  some days stock market is closed so I only get data for the day that \n",
        "#  we have data for\n",
        "data = yf.download('AMZN',start_date,Final_date)\n",
        "# Label \n",
        "data['profit']= (data.Close.shift(-1) - data.Close)/data.Close.shift(-1)\n",
        "data.dropna(how = 'any',inplace= True)\n",
        "data['profit']= data['profit'] >= 0.02\n",
        "data['profit']= data['profit'].astype('int32')\n",
        "\n",
        "label= data.reset_index ()\n",
        "label= label[['profit','Date']]\n",
        "# Clean the data\n",
        "\n",
        "train_dir = 'content/drive/My Drive/Stocks/'\n",
        "\n",
        "label = label.shift(-(windows-1))\n",
        "label.dropna(how = 'any',inplace= True)\n",
        "label['profit']= label['profit'].astype('int32')\n",
        "label.drop(label.index[-1], inplace = True)\n",
        "label['path'] = label['Date'].map(lambda x: os.path.join(train_dir,'{}.png'.format(x)))\n",
        "label['Date_str']=label['Date'].astype('str')\n",
        "\n"
      ],
      "execution_count": 9,
      "outputs": [
        {
          "output_type": "stream",
          "text": [
            "\r[*********************100%***********************]  1 of 1 completed\n"
          ],
          "name": "stdout"
        }
      ]
    },
    {
      "cell_type": "markdown",
      "metadata": {
        "id": "PSL5nqgzQgtE",
        "colab_type": "text"
      },
      "source": [
        "## Generate Pictures from charts \n",
        "Get the date from dataframe "
      ]
    },
    {
      "cell_type": "code",
      "metadata": {
        "id": "mA9SUxxkPr4D",
        "colab_type": "code",
        "colab": {
          "base_uri": "https://localhost:8080/",
          "height": 54
        },
        "outputId": "f833a316-03fe-4c42-d01d-6ac88bab88a2"
      },
      "source": [
        "start_date = label.iloc[0].Date\n",
        "os.chdir(\"/content/drive/My Drive/Stocks\")\n",
        "list_file = []\n",
        "for file in glob.glob(\"*.png\"):\n",
        "    list_file.append(file)\n",
        "\n",
        "   \n",
        "for ii in tqdm(range(label.shape[0])):\n",
        "    plt.clf()\n",
        "    end_date   = label.iloc[ii].Date \n",
        "    start_date = pd.to_datetime(label.iloc[ii].Date) - datetime.timedelta(days=windows)\n",
        "    if label.iloc[ii].Date_str+'.png' not in list_file:\n",
        "       print(\"file name:   \" ,label.iloc[ii].Date_str)\n",
        "       plot_candles(  volume_bars=True, save = True, Bollinger_Band = True, name =label.iloc[ii].Date_str, multi_stocks= stickers , start = start_date, end = end_date )\n",
        "    ii += 1\n",
        "\n",
        "label['Date'] = label['Date'].astype('str')\n",
        "label['path'] = label['Date'].map(lambda x: os.path.join(train_dir,'{}.png'.format(x)))\n",
        "\n",
        "os.chdir(\"../../../..\")"
      ],
      "execution_count": 10,
      "outputs": [
        {
          "output_type": "stream",
          "text": [
            "100%|██████████| 1953/1953 [00:01<00:00, 1614.69it/s]\n"
          ],
          "name": "stderr"
        },
        {
          "output_type": "display_data",
          "data": {
            "text/plain": [
              "<Figure size 1080x432 with 0 Axes>"
            ]
          },
          "metadata": {
            "tags": []
          }
        }
      ]
    },
    {
      "cell_type": "code",
      "metadata": {
        "id": "1vDy7GN_PDEy",
        "colab_type": "code",
        "colab": {}
      },
      "source": [
        "# Data Augmentation and Transformation up to Data Bunch\n",
        "tfms = get_transforms()\n",
        "sz= 600 # 600 ,20 good \n",
        "bs =10\n",
        "\n",
        "src = (ImageList.from_df(df=label,path =\"..\",cols='path') \n",
        "        .split_by_idx(valid_idx=range(int(label.shape[0] - label.shape[0]*0.3),label.shape[0]))\n",
        "        .label_from_df(cols='profit') \n",
        "      )\n",
        "data= (src.databunch(bs=bs,num_workers=4) \n",
        "        .normalize(imagenet_stats)      \n",
        "       )"
      ],
      "execution_count": 0,
      "outputs": []
    },
    {
      "cell_type": "code",
      "metadata": {
        "id": "Bobd_4KkSH3n",
        "colab_type": "code",
        "colab": {
          "base_uri": "https://localhost:8080/",
          "height": 112
        },
        "outputId": "f6624bad-a783-4394-cd79-588713490a3a"
      },
      "source": [
        "manualSeed = 100\n",
        "np.random.seed(manualSeed)\n",
        "torch.manual_seed(manualSeed)\n",
        "torch.cuda.manual_seed_all(manualSeed)\n",
        "learn = cnn_learner(data, models.resnet50)\n",
        "# Let's fit a couple of cycles\n",
        "learn.fit_one_cycle(2)\n"
      ],
      "execution_count": 28,
      "outputs": [
        {
          "output_type": "display_data",
          "data": {
            "text/html": [
              "<table border=\"1\" class=\"dataframe\">\n",
              "  <thead>\n",
              "    <tr style=\"text-align: left;\">\n",
              "      <th>epoch</th>\n",
              "      <th>train_loss</th>\n",
              "      <th>valid_loss</th>\n",
              "      <th>time</th>\n",
              "    </tr>\n",
              "  </thead>\n",
              "  <tbody>\n",
              "    <tr>\n",
              "      <td>0</td>\n",
              "      <td>0.755021</td>\n",
              "      <td>0.507046</td>\n",
              "      <td>00:59</td>\n",
              "    </tr>\n",
              "    <tr>\n",
              "      <td>1</td>\n",
              "      <td>0.373679</td>\n",
              "      <td>0.331444</td>\n",
              "      <td>00:59</td>\n",
              "    </tr>\n",
              "  </tbody>\n",
              "</table>"
            ],
            "text/plain": [
              "<IPython.core.display.HTML object>"
            ]
          },
          "metadata": {
            "tags": []
          }
        }
      ]
    },
    {
      "cell_type": "code",
      "metadata": {
        "id": "3N9vN0pJSWSo",
        "colab_type": "code",
        "colab": {
          "base_uri": "https://localhost:8080/",
          "height": 446
        },
        "outputId": "e1981fa0-a601-43e3-d8a8-1a5ed67c5d27"
      },
      "source": [
        "learn.unfreeze()\n",
        "learn.lr_find()\n",
        "learn.recorder.plot(suggestion=True)\n"
      ],
      "execution_count": 15,
      "outputs": [
        {
          "output_type": "display_data",
          "data": {
            "text/html": [
              ""
            ],
            "text/plain": [
              "<IPython.core.display.HTML object>"
            ]
          },
          "metadata": {
            "tags": []
          }
        },
        {
          "output_type": "stream",
          "text": [
            "LR Finder is complete, type {learner_name}.recorder.plot() to see the graph.\n",
            "Min numerical gradient: 1.10E-06\n",
            "Min loss divided by 10: 1.74E-06\n"
          ],
          "name": "stdout"
        },
        {
          "output_type": "display_data",
          "data": {
            "image/png": "[encoded data removed]",
            "text/plain": [
              "<Figure size 1080x432 with 1 Axes>"
            ]
          },
          "metadata": {
            "tags": []
          }
        }
      ]
    },
    {
      "cell_type": "code",
      "metadata": {
        "id": "UUmxGmL6SZ8Z",
        "colab_type": "code",
        "colab": {
          "base_uri": "https://localhost:8080/",
          "height": 127
        },
        "outputId": "d2e64a88-f092-43c9-c0c6-d42562f23f82"
      },
      "source": [
        "# Let's fit some more with a more accurate learning rate\n",
        "learn.fit_one_cycle(8, max_lr=slice(1.10E-06))\n",
        "learn.recorder.plot_losses()"
      ],
      "execution_count": 0,
      "outputs": [
        {
          "output_type": "display_data",
          "data": {
            "text/html": [
              "\n",
              "    <div>\n",
              "        <style>\n",
              "            /* Turns off some styling */\n",
              "            progress {\n",
              "                /* gets rid of default border in Firefox and Opera. */\n",
              "                border: none;\n",
              "                /* Needs to be in here for Safari polyfill so background images work as expected. */\n",
              "                background-size: auto;\n",
              "            }\n",
              "            .progress-bar-interrupted, .progress-bar-interrupted::-webkit-progress-bar {\n",
              "                background: #F44336;\n",
              "            }\n",
              "        </style>\n",
              "      <progress value='1' class='' max='8', style='width:300px; height:20px; vertical-align: middle;'></progress>\n",
              "      12.50% [1/8 00:59<06:54]\n",
              "    </div>\n",
              "    \n",
              "<table border=\"1\" class=\"dataframe\">\n",
              "  <thead>\n",
              "    <tr style=\"text-align: left;\">\n",
              "      <th>epoch</th>\n",
              "      <th>train_loss</th>\n",
              "      <th>valid_loss</th>\n",
              "      <th>time</th>\n",
              "    </tr>\n",
              "  </thead>\n",
              "  <tbody>\n",
              "    <tr>\n",
              "      <td>0</td>\n",
              "      <td>0.234420</td>\n",
              "      <td>0.338849</td>\n",
              "      <td>00:59</td>\n",
              "    </tr>\n",
              "  </tbody>\n",
              "</table><p>\n",
              "\n",
              "    <div>\n",
              "        <style>\n",
              "            /* Turns off some styling */\n",
              "            progress {\n",
              "                /* gets rid of default border in Firefox and Opera. */\n",
              "                border: none;\n",
              "                /* Needs to be in here for Safari polyfill so background images work as expected. */\n",
              "                background-size: auto;\n",
              "            }\n",
              "            .progress-bar-interrupted, .progress-bar-interrupted::-webkit-progress-bar {\n",
              "                background: #F44336;\n",
              "            }\n",
              "        </style>\n",
              "      <progress value='60' class='' max='136', style='width:300px; height:20px; vertical-align: middle;'></progress>\n",
              "      44.12% [60/136 00:21<00:27 0.2496]\n",
              "    </div>\n",
              "    "
            ],
            "text/plain": [
              "<IPython.core.display.HTML object>"
            ]
          },
          "metadata": {
            "tags": []
          }
        }
      ]
    },
    {
      "cell_type": "code",
      "metadata": {
        "id": "pswtmK5ISmdG",
        "colab_type": "code",
        "colab": {}
      },
      "source": [
        "preds,y, loss = learn.get_preds(with_loss=True)\n",
        "# get accuracy\n",
        "acc = accuracy(preds, y)\n",
        "print('The accuracy is {0} %.'.format(acc))\n",
        "\n",
        "# probs from log preds\n",
        "probs = np.exp(preds[:,1])\n",
        "# Compute ROC curve\n",
        "fpr, tpr, thresholds = roc_curve(y, probs, pos_label=1)\n",
        "\n",
        "# Compute ROC area\n",
        "roc_auc = auc(fpr, tpr)\n",
        "print('ROC area is {0}'.format(roc_auc))\n",
        "\n",
        "plt.figure()\n",
        "plt.plot(fpr, tpr, color='darkorange', label='ROC curve (area = %0.2f)' % roc_auc)\n",
        "plt.plot([0, 1], [0, 1], color='navy', linestyle='--')\n",
        "plt.xlim([-0.01, 1.0])\n",
        "plt.ylim([0.0, 1.01])\n",
        "plt.xlabel('False Positive Rate')\n",
        "plt.ylabel('True Positive Rate')\n",
        "plt.title('Receiver operating characteristic')\n",
        "plt.legend(loc=\"lower right\")"
      ],
      "execution_count": 0,
      "outputs": []
    },
    {
      "cell_type": "code",
      "metadata": {
        "id": "BYxtIJviWOoH",
        "colab_type": "code",
        "colab": {
          "base_uri": "https://localhost:8080/",
          "height": 1000
        },
        "outputId": "f00b1aef-5962-46f3-bcce-1da9505f40a3"
      },
      "source": [
        "learn.summary()"
      ],
      "execution_count": 20,
      "outputs": [
        {
          "output_type": "execute_result",
          "data": {
            "text/plain": [
              "Sequential\n",
              "======================================================================\n",
              "Layer (type)         Output Shape         Param #    Trainable \n",
              "======================================================================\n",
              "Conv2d               [64, 216, 540]       9,408      True      \n",
              "______________________________________________________________________\n",
              "BatchNorm2d          [64, 216, 540]       128        True      \n",
              "______________________________________________________________________\n",
              "ReLU                 [64, 216, 540]       0          False     \n",
              "______________________________________________________________________\n",
              "MaxPool2d            [64, 108, 270]       0          False     \n",
              "______________________________________________________________________\n",
              "Conv2d               [64, 108, 270]       4,096      True      \n",
              "______________________________________________________________________\n",
              "BatchNorm2d          [64, 108, 270]       128        True      \n",
              "______________________________________________________________________\n",
              "Conv2d               [64, 108, 270]       36,864     True      \n",
              "______________________________________________________________________\n",
              "BatchNorm2d          [64, 108, 270]       128        True      \n",
              "______________________________________________________________________\n",
              "Conv2d               [256, 108, 270]      16,384     True      \n",
              "______________________________________________________________________\n",
              "BatchNorm2d          [256, 108, 270]      512        True      \n",
              "______________________________________________________________________\n",
              "ReLU                 [256, 108, 270]      0          False     \n",
              "______________________________________________________________________\n",
              "Conv2d               [256, 108, 270]      16,384     True      \n",
              "______________________________________________________________________\n",
              "BatchNorm2d          [256, 108, 270]      512        True      \n",
              "______________________________________________________________________\n",
              "Conv2d               [64, 108, 270]       16,384     True      \n",
              "______________________________________________________________________\n",
              "BatchNorm2d          [64, 108, 270]       128        True      \n",
              "______________________________________________________________________\n",
              "Conv2d               [64, 108, 270]       36,864     True      \n",
              "______________________________________________________________________\n",
              "BatchNorm2d          [64, 108, 270]       128        True      \n",
              "______________________________________________________________________\n",
              "Conv2d               [256, 108, 270]      16,384     True      \n",
              "______________________________________________________________________\n",
              "BatchNorm2d          [256, 108, 270]      512        True      \n",
              "______________________________________________________________________\n",
              "ReLU                 [256, 108, 270]      0          False     \n",
              "______________________________________________________________________\n",
              "Conv2d               [64, 108, 270]       16,384     True      \n",
              "______________________________________________________________________\n",
              "BatchNorm2d          [64, 108, 270]       128        True      \n",
              "______________________________________________________________________\n",
              "Conv2d               [64, 108, 270]       36,864     True      \n",
              "______________________________________________________________________\n",
              "BatchNorm2d          [64, 108, 270]       128        True      \n",
              "______________________________________________________________________\n",
              "Conv2d               [256, 108, 270]      16,384     True      \n",
              "______________________________________________________________________\n",
              "BatchNorm2d          [256, 108, 270]      512        True      \n",
              "______________________________________________________________________\n",
              "ReLU                 [256, 108, 270]      0          False     \n",
              "______________________________________________________________________\n",
              "Conv2d               [128, 108, 270]      32,768     True      \n",
              "______________________________________________________________________\n",
              "BatchNorm2d          [128, 108, 270]      256        True      \n",
              "______________________________________________________________________\n",
              "Conv2d               [128, 54, 135]       147,456    True      \n",
              "______________________________________________________________________\n",
              "BatchNorm2d          [128, 54, 135]       256        True      \n",
              "______________________________________________________________________\n",
              "Conv2d               [512, 54, 135]       65,536     True      \n",
              "______________________________________________________________________\n",
              "BatchNorm2d          [512, 54, 135]       1,024      True      \n",
              "______________________________________________________________________\n",
              "ReLU                 [512, 54, 135]       0          False     \n",
              "______________________________________________________________________\n",
              "Conv2d               [512, 54, 135]       131,072    True      \n",
              "______________________________________________________________________\n",
              "BatchNorm2d          [512, 54, 135]       1,024      True      \n",
              "______________________________________________________________________\n",
              "Conv2d               [128, 54, 135]       65,536     True      \n",
              "______________________________________________________________________\n",
              "BatchNorm2d          [128, 54, 135]       256        True      \n",
              "______________________________________________________________________\n",
              "Conv2d               [128, 54, 135]       147,456    True      \n",
              "______________________________________________________________________\n",
              "BatchNorm2d          [128, 54, 135]       256        True      \n",
              "______________________________________________________________________\n",
              "Conv2d               [512, 54, 135]       65,536     True      \n",
              "______________________________________________________________________\n",
              "BatchNorm2d          [512, 54, 135]       1,024      True      \n",
              "______________________________________________________________________\n",
              "ReLU                 [512, 54, 135]       0          False     \n",
              "______________________________________________________________________\n",
              "Conv2d               [128, 54, 135]       65,536     True      \n",
              "______________________________________________________________________\n",
              "BatchNorm2d          [128, 54, 135]       256        True      \n",
              "______________________________________________________________________\n",
              "Conv2d               [128, 54, 135]       147,456    True      \n",
              "______________________________________________________________________\n",
              "BatchNorm2d          [128, 54, 135]       256        True      \n",
              "______________________________________________________________________\n",
              "Conv2d               [512, 54, 135]       65,536     True      \n",
              "______________________________________________________________________\n",
              "BatchNorm2d          [512, 54, 135]       1,024      True      \n",
              "______________________________________________________________________\n",
              "ReLU                 [512, 54, 135]       0          False     \n",
              "______________________________________________________________________\n",
              "Conv2d               [128, 54, 135]       65,536     True      \n",
              "______________________________________________________________________\n",
              "BatchNorm2d          [128, 54, 135]       256        True      \n",
              "______________________________________________________________________\n",
              "Conv2d               [128, 54, 135]       147,456    True      \n",
              "______________________________________________________________________\n",
              "BatchNorm2d          [128, 54, 135]       256        True      \n",
              "______________________________________________________________________\n",
              "Conv2d               [512, 54, 135]       65,536     True      \n",
              "______________________________________________________________________\n",
              "BatchNorm2d          [512, 54, 135]       1,024      True      \n",
              "______________________________________________________________________\n",
              "ReLU                 [512, 54, 135]       0          False     \n",
              "______________________________________________________________________\n",
              "Conv2d               [256, 54, 135]       131,072    True      \n",
              "______________________________________________________________________\n",
              "BatchNorm2d          [256, 54, 135]       512        True      \n",
              "______________________________________________________________________\n",
              "Conv2d               [256, 27, 68]        589,824    True      \n",
              "______________________________________________________________________\n",
              "BatchNorm2d          [256, 27, 68]        512        True      \n",
              "______________________________________________________________________\n",
              "Conv2d               [1024, 27, 68]       262,144    True      \n",
              "______________________________________________________________________\n",
              "BatchNorm2d          [1024, 27, 68]       2,048      True      \n",
              "______________________________________________________________________\n",
              "ReLU                 [1024, 27, 68]       0          False     \n",
              "______________________________________________________________________\n",
              "Conv2d               [1024, 27, 68]       524,288    True      \n",
              "______________________________________________________________________\n",
              "BatchNorm2d          [1024, 27, 68]       2,048      True      \n",
              "______________________________________________________________________\n",
              "Conv2d               [256, 27, 68]        262,144    True      \n",
              "______________________________________________________________________\n",
              "BatchNorm2d          [256, 27, 68]        512        True      \n",
              "______________________________________________________________________\n",
              "Conv2d               [256, 27, 68]        589,824    True      \n",
              "______________________________________________________________________\n",
              "BatchNorm2d          [256, 27, 68]        512        True      \n",
              "______________________________________________________________________\n",
              "Conv2d               [1024, 27, 68]       262,144    True      \n",
              "______________________________________________________________________\n",
              "BatchNorm2d          [1024, 27, 68]       2,048      True      \n",
              "______________________________________________________________________\n",
              "ReLU                 [1024, 27, 68]       0          False     \n",
              "______________________________________________________________________\n",
              "Conv2d               [256, 27, 68]        262,144    True      \n",
              "______________________________________________________________________\n",
              "BatchNorm2d          [256, 27, 68]        512        True      \n",
              "______________________________________________________________________\n",
              "Conv2d               [256, 27, 68]        589,824    True      \n",
              "______________________________________________________________________\n",
              "BatchNorm2d          [256, 27, 68]        512        True      \n",
              "______________________________________________________________________\n",
              "Conv2d               [1024, 27, 68]       262,144    True      \n",
              "______________________________________________________________________\n",
              "BatchNorm2d          [1024, 27, 68]       2,048      True      \n",
              "______________________________________________________________________\n",
              "ReLU                 [1024, 27, 68]       0          False     \n",
              "______________________________________________________________________\n",
              "Conv2d               [256, 27, 68]        262,144    True      \n",
              "______________________________________________________________________\n",
              "BatchNorm2d          [256, 27, 68]        512        True      \n",
              "______________________________________________________________________\n",
              "Conv2d               [256, 27, 68]        589,824    True      \n",
              "______________________________________________________________________\n",
              "BatchNorm2d          [256, 27, 68]        512        True      \n",
              "______________________________________________________________________\n",
              "Conv2d               [1024, 27, 68]       262,144    True      \n",
              "______________________________________________________________________\n",
              "BatchNorm2d          [1024, 27, 68]       2,048      True      \n",
              "______________________________________________________________________\n",
              "ReLU                 [1024, 27, 68]       0          False     \n",
              "______________________________________________________________________\n",
              "Conv2d               [256, 27, 68]        262,144    True      \n",
              "______________________________________________________________________\n",
              "BatchNorm2d          [256, 27, 68]        512        True      \n",
              "______________________________________________________________________\n",
              "Conv2d               [256, 27, 68]        589,824    True      \n",
              "______________________________________________________________________\n",
              "BatchNorm2d          [256, 27, 68]        512        True      \n",
              "______________________________________________________________________\n",
              "Conv2d               [1024, 27, 68]       262,144    True      \n",
              "______________________________________________________________________\n",
              "BatchNorm2d          [1024, 27, 68]       2,048      True      \n",
              "______________________________________________________________________\n",
              "ReLU                 [1024, 27, 68]       0          False     \n",
              "______________________________________________________________________\n",
              "Conv2d               [256, 27, 68]        262,144    True      \n",
              "______________________________________________________________________\n",
              "BatchNorm2d          [256, 27, 68]        512        True      \n",
              "______________________________________________________________________\n",
              "Conv2d               [256, 27, 68]        589,824    True      \n",
              "______________________________________________________________________\n",
              "BatchNorm2d          [256, 27, 68]        512        True      \n",
              "______________________________________________________________________\n",
              "Conv2d               [1024, 27, 68]       262,144    True      \n",
              "______________________________________________________________________\n",
              "BatchNorm2d          [1024, 27, 68]       2,048      True      \n",
              "______________________________________________________________________\n",
              "ReLU                 [1024, 27, 68]       0          False     \n",
              "______________________________________________________________________\n",
              "Conv2d               [512, 27, 68]        524,288    True      \n",
              "______________________________________________________________________\n",
              "BatchNorm2d          [512, 27, 68]        1,024      True      \n",
              "______________________________________________________________________\n",
              "Conv2d               [512, 14, 34]        2,359,296  True      \n",
              "______________________________________________________________________\n",
              "BatchNorm2d          [512, 14, 34]        1,024      True      \n",
              "______________________________________________________________________\n",
              "Conv2d               [2048, 14, 34]       1,048,576  True      \n",
              "______________________________________________________________________\n",
              "BatchNorm2d          [2048, 14, 34]       4,096      True      \n",
              "______________________________________________________________________\n",
              "ReLU                 [2048, 14, 34]       0          False     \n",
              "______________________________________________________________________\n",
              "Conv2d               [2048, 14, 34]       2,097,152  True      \n",
              "______________________________________________________________________\n",
              "BatchNorm2d          [2048, 14, 34]       4,096      True      \n",
              "______________________________________________________________________\n",
              "Conv2d               [512, 14, 34]        1,048,576  True      \n",
              "______________________________________________________________________\n",
              "BatchNorm2d          [512, 14, 34]        1,024      True      \n",
              "______________________________________________________________________\n",
              "Conv2d               [512, 14, 34]        2,359,296  True      \n",
              "______________________________________________________________________\n",
              "BatchNorm2d          [512, 14, 34]        1,024      True      \n",
              "______________________________________________________________________\n",
              "Conv2d               [2048, 14, 34]       1,048,576  True      \n",
              "______________________________________________________________________\n",
              "BatchNorm2d          [2048, 14, 34]       4,096      True      \n",
              "______________________________________________________________________\n",
              "ReLU                 [2048, 14, 34]       0          False     \n",
              "______________________________________________________________________\n",
              "Conv2d               [512, 14, 34]        1,048,576  True      \n",
              "______________________________________________________________________\n",
              "BatchNorm2d          [512, 14, 34]        1,024      True      \n",
              "______________________________________________________________________\n",
              "Conv2d               [512, 14, 34]        2,359,296  True      \n",
              "______________________________________________________________________\n",
              "BatchNorm2d          [512, 14, 34]        1,024      True      \n",
              "______________________________________________________________________\n",
              "Conv2d               [2048, 14, 34]       1,048,576  True      \n",
              "______________________________________________________________________\n",
              "BatchNorm2d          [2048, 14, 34]       4,096      True      \n",
              "______________________________________________________________________\n",
              "ReLU                 [2048, 14, 34]       0          False     \n",
              "______________________________________________________________________\n",
              "AdaptiveAvgPool2d    [2048, 1, 1]         0          False     \n",
              "______________________________________________________________________\n",
              "AdaptiveMaxPool2d    [2048, 1, 1]         0          False     \n",
              "______________________________________________________________________\n",
              "Flatten              [4096]               0          False     \n",
              "______________________________________________________________________\n",
              "BatchNorm1d          [4096]               8,192      True      \n",
              "______________________________________________________________________\n",
              "Dropout              [4096]               0          False     \n",
              "______________________________________________________________________\n",
              "Linear               [512]                2,097,664  True      \n",
              "______________________________________________________________________\n",
              "ReLU                 [512]                0          False     \n",
              "______________________________________________________________________\n",
              "BatchNorm1d          [512]                1,024      True      \n",
              "______________________________________________________________________\n",
              "Dropout              [512]                0          False     \n",
              "______________________________________________________________________\n",
              "Linear               [2]                  1,026      True      \n",
              "______________________________________________________________________\n",
              "\n",
              "Total params: 25,615,938\n",
              "Total trainable params: 25,615,938\n",
              "Total non-trainable params: 0\n",
              "Optimized with 'torch.optim.adam.Adam', betas=(0.9, 0.99)\n",
              "Using true weight decay as discussed in https://www.fast.ai/2018/07/02/adam-weight-decay/ \n",
              "Loss function : FlattenedLoss\n",
              "======================================================================\n",
              "Callbacks functions applied "
            ]
          },
          "metadata": {
            "tags": []
          },
          "execution_count": 20
        }
      ]
    },
    {
      "cell_type": "code",
      "metadata": {
        "id": "1rGn3NsQXnOy",
        "colab_type": "code",
        "colab": {}
      },
      "source": [
        ""
      ],
      "execution_count": 0,
      "outputs": []
    }
  ]
}